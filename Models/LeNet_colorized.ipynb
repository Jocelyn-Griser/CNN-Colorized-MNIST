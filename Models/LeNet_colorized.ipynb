{
 "cells": [
  {
   "cell_type": "code",
   "execution_count": 1,
   "id": "981dee08",
   "metadata": {},
   "outputs": [],
   "source": [
    "import tensorflow as tf\n",
    "import keras\n",
    "import keras.layers as layers\n",
    "from keras.models import Sequential"
   ]
  },
  {
   "cell_type": "code",
   "execution_count": 2,
   "id": "ca54df36",
   "metadata": {
    "scrolled": false
   },
   "outputs": [
    {
     "name": "stdout",
     "output_type": "stream",
     "text": [
      "Model: \"LeNet_Color\"\n",
      "_________________________________________________________________\n",
      "Layer (type)                 Output Shape              Param #   \n",
      "=================================================================\n",
      "conv2d (Conv2D)              (None, 16, 16, 6)         456       \n",
      "_________________________________________________________________\n",
      "average_pooling2d (AveragePo (None, 8, 8, 6)           0         \n",
      "_________________________________________________________________\n",
      "conv2d_1 (Conv2D)            (None, 4, 4, 16)          2416      \n",
      "_________________________________________________________________\n",
      "average_pooling2d_1 (Average (None, 2, 2, 16)          0         \n",
      "_________________________________________________________________\n",
      "flatten (Flatten)            (None, 64)                0         \n",
      "_________________________________________________________________\n",
      "dense (Dense)                (None, 120)               7800      \n",
      "_________________________________________________________________\n",
      "dense_1 (Dense)              (None, 84)                10164     \n",
      "_________________________________________________________________\n",
      "dense_2 (Dense)              (None, 10)                850       \n",
      "=================================================================\n",
      "Total params: 21,686\n",
      "Trainable params: 21,686\n",
      "Non-trainable params: 0\n",
      "_________________________________________________________________\n"
     ]
    }
   ],
   "source": [
    "# RGB model - LeNet\n",
    "\n",
    "model_LeNet_C = keras.Sequential([\n",
    "    layers.Conv2D(filters=6,\n",
    "                  kernel_size=(5, 5),\n",
    "                  strides=2,\n",
    "                  padding='same',\n",
    "                  input_shape=(32,32,3),\n",
    "                  activation='sigmoid'),\n",
    "    layers.AveragePooling2D(pool_size=(2,2),\n",
    "                            strides=2,\n",
    "                            padding='valid'),\n",
    "    layers.Conv2D(filters=16,\n",
    "                  kernel_size=(5, 5),\n",
    "                  activation='sigmoid',\n",
    "                  padding='valid'),\n",
    "    layers.AveragePooling2D(pool_size=(2,2),\n",
    "                            strides=2,\n",
    "                            padding='valid'),\n",
    "    layers.Flatten(),\n",
    "    layers.Dense(120, activation='sigmoid'),\n",
    "    layers.Dense(84, activation='sigmoid'),\n",
    "    layers.Dense(10, activation='sigmoid')\n",
    "])\n",
    "\n",
    "model_LeNet_C._name=\"LeNet_Color\"\n",
    "\n",
    "model_LeNet_C.summary()\n",
    "\n",
    "model_LeNet_C.compile(loss=keras.losses.categorical_crossentropy,\n",
    "              optimizer=\"Adam\", metrics=['accuracy'])"
   ]
  }
 ],
 "metadata": {
  "kernelspec": {
   "display_name": "Python 3",
   "language": "python",
   "name": "python3"
  },
  "language_info": {
   "codemirror_mode": {
    "name": "ipython",
    "version": 3
   },
   "file_extension": ".py",
   "mimetype": "text/x-python",
   "name": "python",
   "nbconvert_exporter": "python",
   "pygments_lexer": "ipython3",
   "version": "3.8.8"
  }
 },
 "nbformat": 4,
 "nbformat_minor": 5
}
