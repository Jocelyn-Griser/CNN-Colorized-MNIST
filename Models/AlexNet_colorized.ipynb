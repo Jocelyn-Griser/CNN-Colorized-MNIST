{
 "cells": [
  {
   "cell_type": "code",
   "execution_count": 1,
   "id": "981dee08",
   "metadata": {},
   "outputs": [],
   "source": [
    "import tensorflow as tf\n",
    "import keras\n",
    "import keras.layers as layers\n",
    "from keras.models import Sequential"
   ]
  },
  {
   "cell_type": "code",
   "execution_count": 2,
   "id": "0eedc6f8",
   "metadata": {},
   "outputs": [
    {
     "name": "stdout",
     "output_type": "stream",
     "text": [
      "Model: \"AlexNet_2Hue\"\n",
      "_________________________________________________________________\n",
      "Layer (type)                 Output Shape              Param #   \n",
      "=================================================================\n",
      "conv2d (Conv2D)              (None, 14, 14, 6)         456       \n",
      "_________________________________________________________________\n",
      "average_pooling2d (AveragePo (None, 12, 12, 6)         0         \n",
      "_________________________________________________________________\n",
      "conv2d_1 (Conv2D)            (None, 12, 12, 12)        660       \n",
      "_________________________________________________________________\n",
      "average_pooling2d_1 (Average (None, 10, 10, 12)        0         \n",
      "_________________________________________________________________\n",
      "conv2d_2 (Conv2D)            (None, 10, 10, 32)        1568      \n",
      "_________________________________________________________________\n",
      "conv2d_3 (Conv2D)            (None, 10, 10, 32)        4128      \n",
      "_________________________________________________________________\n",
      "average_pooling2d_2 (Average (None, 5, 5, 32)          0         \n",
      "_________________________________________________________________\n",
      "flatten (Flatten)            (None, 800)               0         \n",
      "_________________________________________________________________\n",
      "dense (Dense)                (None, 800)               640800    \n",
      "_________________________________________________________________\n",
      "dropout (Dropout)            (None, 800)               0         \n",
      "_________________________________________________________________\n",
      "dense_1 (Dense)              (None, 800)               640800    \n",
      "_________________________________________________________________\n",
      "dropout_1 (Dropout)          (None, 800)               0         \n",
      "_________________________________________________________________\n",
      "dense_2 (Dense)              (None, 100)               80100     \n",
      "_________________________________________________________________\n",
      "dense_3 (Dense)              (None, 10)                1010      \n",
      "=================================================================\n",
      "Total params: 1,369,522\n",
      "Trainable params: 1,369,522\n",
      "Non-trainable params: 0\n",
      "_________________________________________________________________\n"
     ]
    }
   ],
   "source": [
    "model_AlexNet_2Hue =keras.Sequential([\n",
    "    layers.Conv2D(filters=6,\n",
    "                  kernel_size=(5, 5),\n",
    "                  strides=2,\n",
    "                  padding='valid',\n",
    "                  input_shape=(32,32,3),\n",
    "                  activation='sigmoid'),\n",
    "    layers.AveragePooling2D(pool_size=(3,3),\n",
    "                            strides=1,\n",
    "                            padding='valid'),\n",
    "    layers.Conv2D(filters=12,\n",
    "                  kernel_size=(3, 3),\n",
    "                  activation='sigmoid',\n",
    "                  strides=1,\n",
    "                  padding='same'),\n",
    "    layers.AveragePooling2D(pool_size=(3,3),\n",
    "                            strides=1,\n",
    "                            padding='valid'),\n",
    "    layers.Conv2D(filters=32,\n",
    "                  kernel_size=(2,2),\n",
    "                  activation='relu',\n",
    "                  strides=1,\n",
    "                  padding='same'),\n",
    "    layers.Conv2D(filters=32,\n",
    "                  kernel_size=(2,2),\n",
    "                  activation='relu',\n",
    "                  strides=1,\n",
    "                  padding='same'),\n",
    "    layers.AveragePooling2D(pool_size=(2,2),\n",
    "                            strides=2,\n",
    "                            padding='valid'),\n",
    "    layers.Flatten(),\n",
    "    layers.Dense(800, activation='relu'),\n",
    "    layers.Dropout(rate=0.5),\n",
    "    layers.Dense(800, activation='relu'),\n",
    "    layers.Dropout(rate=0.5),\n",
    "    layers.Dense(100, activation='relu'),\n",
    "    layers.Dense(10, activation='relu')\n",
    "])\n",
    "\n",
    "model_AlexNet_2Hue._name=\"AlexNet_2Hue\"\n",
    "\n",
    "model_AlexNet_2Hue.summary()\n",
    "\n",
    "model_AlexNet_2Hue.compile(loss=keras.losses.categorical_crossentropy,\n",
    "              optimizer=\"Adam\", metrics=['accuracy'])"
   ]
  },
  {
   "cell_type": "code",
   "execution_count": null,
   "id": "e4ca6301",
   "metadata": {},
   "outputs": [],
   "source": []
  }
 ],
 "metadata": {
  "kernelspec": {
   "display_name": "Python 3",
   "language": "python",
   "name": "python3"
  },
  "language_info": {
   "codemirror_mode": {
    "name": "ipython",
    "version": 3
   },
   "file_extension": ".py",
   "mimetype": "text/x-python",
   "name": "python",
   "nbconvert_exporter": "python",
   "pygments_lexer": "ipython3",
   "version": "3.8.8"
  }
 },
 "nbformat": 4,
 "nbformat_minor": 5
}
