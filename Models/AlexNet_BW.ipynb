{
 "cells": [
  {
   "cell_type": "code",
   "execution_count": 1,
   "id": "981dee08",
   "metadata": {},
   "outputs": [],
   "source": [
    "import tensorflow as tf\n",
    "import keras\n",
    "impSort keras.layers as layers\n",
    "from keras.models import Sequential\n"
   ]
  },
  {
   "cell_type": "code",
   "execution_count": 2,
   "id": "0eedc6f8",
   "metadata": {},
   "outputs": [
    {
     "name": "stdout",
     "output_type": "stream",
     "text": [
      "Model: \"AlexNet_BlackWhite_small\"\n",
      "_________________________________________________________________\n",
      "Layer (type)                 Output Shape              Param #   \n",
      "=================================================================\n",
      "reshape (Reshape)            (None, 32, 32, 1)         0         \n",
      "_________________________________________________________________\n",
      "conv2d (Conv2D)              (None, 11, 11, 6)         732       \n",
      "_________________________________________________________________\n",
      "average_pooling2d (AveragePo (None, 9, 9, 6)           0         \n",
      "_________________________________________________________________\n",
      "conv2d_1 (Conv2D)            (None, 9, 9, 16)          2416      \n",
      "_________________________________________________________________\n",
      "average_pooling2d_1 (Average (None, 7, 7, 16)          0         \n",
      "_________________________________________________________________\n",
      "conv2d_2 (Conv2D)            (None, 7, 7, 32)          2080      \n",
      "_________________________________________________________________\n",
      "conv2d_3 (Conv2D)            (None, 7, 7, 32)          4128      \n",
      "_________________________________________________________________\n",
      "average_pooling2d_2 (Average (None, 3, 3, 32)          0         \n",
      "_________________________________________________________________\n",
      "flatten (Flatten)            (None, 288)               0         \n",
      "_________________________________________________________________\n",
      "dense (Dense)                (None, 288)               83232     \n",
      "_________________________________________________________________\n",
      "dropout (Dropout)            (None, 288)               0         \n",
      "_________________________________________________________________\n",
      "dense_1 (Dense)              (None, 288)               83232     \n",
      "_________________________________________________________________\n",
      "dropout_1 (Dropout)          (None, 288)               0         \n",
      "_________________________________________________________________\n",
      "dense_2 (Dense)              (None, 100)               28900     \n",
      "_________________________________________________________________\n",
      "dense_3 (Dense)              (None, 10)                1010      \n",
      "=================================================================\n",
      "Total params: 205,730\n",
      "Trainable params: 205,730\n",
      "Non-trainable params: 0\n",
      "_________________________________________________________________\n"
     ]
    }
   ],
   "source": [
    "model_AlexNet_BW_small =keras.Sequential([\n",
    "    layers.Reshape(input_shape=(32,32), target_shape=(32, 32, 1)),\n",
    "    layers.Conv2D(filters=6,\n",
    "                  kernel_size=(11, 11),\n",
    "                  strides=2,\n",
    "                  padding='valid',\n",
    "                  activation='sigmoid'),\n",
    "    layers.AveragePooling2D(pool_size=(3,3),\n",
    "                            strides=1,\n",
    "                            padding='valid'),\n",
    "    layers.Conv2D(filters=16,\n",
    "                  kernel_size=(5, 5),\n",
    "                  activation='sigmoid',\n",
    "                  strides=1,\n",
    "                  padding='same'),\n",
    "    layers.AveragePooling2D(pool_size=(3,3),\n",
    "                            strides=1,\n",
    "                            padding='valid'),\n",
    "    layers.Conv2D(filters=32,\n",
    "                  kernel_size=(2,2),\n",
    "                  activation='relu',\n",
    "                  strides=1,\n",
    "                  padding='same'),\n",
    "    layers.Conv2D(filters=32,\n",
    "                  kernel_size=(2,2),\n",
    "                  activation='relu',\n",
    "                  strides=1,\n",
    "                  padding='same'),\n",
    "    layers.AveragePooling2D(pool_size=(2,2),\n",
    "                            strides=2,\n",
    "                            padding='valid'),\n",
    "    layers.Flatten(),\n",
    "    layers.Dense(288, activation='relu'),\n",
    "    layers.Dropout(rate=0.5),\n",
    "    layers.Dense(288, activation='relu'),\n",
    "    layers.Dropout(rate=0.5),\n",
    "    layers.Dense(100, activation='relu'),\n",
    "    layers.Dense(10, activation='relu')\n",
    "])\n",
    "\n",
    "model_AlexNet_BW_small._name=\"AlexNet_BlackWhite_small\"\n",
    "\n",
    "model_AlexNet_BW_small.summary()\n",
    "\n",
    "model_AlexNet_BW_small.compile(loss=keras.losses.categorical_crossentropy,\n",
    "              optimizer=\"Adam\", metrics=['accuracy'])"
   ]
  }
 ],
 "metadata": {
  "kernelspec": {
   "display_name": "Python 3",
   "language": "python",
   "name": "python3"
  },
  "language_info": {
   "codemirror_mode": {
    "name": "ipython",
    "version": 3
   },
   "file_extension": ".py",
   "mimetype": "text/x-python",
   "name": "python",
   "nbconvert_exporter": "python",
   "pygments_lexer": "ipython3",
   "version": "3.8.8"
  }
 },
 "nbformat": 4,
 "nbformat_minor": 5
}
